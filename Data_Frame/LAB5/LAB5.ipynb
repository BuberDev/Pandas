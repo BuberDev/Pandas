import pandas as pd
import numpy as np

fuel = pd.read_csv("fuel.csv",usecols=['Vehicle ID','Year','Make',
'Model','Class','Fuel Type',
'Combined MPG (FT1)'],
index_col = 'Vehicle ID')

fuel.head()

fuel.loc[27705, 'Class'] = np.NaN
fuel.loc[26561, 'Class'] = np.NaN
fuel.loc[27550, 'Fuel Type'] = np.NaN

fuel.head()

fuel.dropna().head()

fuel.dropna(axis = 'columns').head()

fuel.dropna(subset=['Class']).head()

fuel.dropna(subset=['Class'], inplace=True)

fuel.head()
